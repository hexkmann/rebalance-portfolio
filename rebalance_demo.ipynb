{
  "nbformat": 4,
  "nbformat_minor": 0,
  "metadata": {
    "colab": {
      "provenance": [],
      "toc_visible": true
    },
    "kernelspec": {
      "name": "python3",
      "display_name": "Python 3"
    },
    "language_info": {
      "name": "python"
    }
  },
  "cells": [
    {
      "cell_type": "markdown",
      "source": [
        "# src\n"
      ],
      "metadata": {
        "id": "-dcnn0Stko8K"
      }
    },
    {
      "cell_type": "code",
      "source": [
        "import random\n",
        "\n",
        "class Stock:\n",
        "    def __init__(self, ticker, price, quantity):\n",
        "        self.ticker = ticker\n",
        "        self.price = price\n",
        "        self.quantity = quantity\n",
        "\n",
        "    def current_price(self):\n",
        "        # Actualiza el precio con la última información disponible\n",
        "        change = random.uniform(-0.05, 0.05)                # Simula un cambio de +/-5%\n",
        "        self.price *= (1 + change)\n",
        "\n",
        "    def investment_value(self):\n",
        "        # Calcula el valor de inversión de la acción\n",
        "        return self.price * self.quantity\n",
        "\n",
        "\n",
        "class Portfolio:\n",
        "    def __init__(self, stocks, allocation):\n",
        "        self.stocks = {stock.ticker: stock for stock in stocks}\n",
        "        self.allocation = allocation\n",
        "\n",
        "    def update(self):\n",
        "        # Actualiza el precio para cada acción de la cartera\n",
        "        for stock in self.stocks.values():\n",
        "            stock.current_price()\n",
        "\n",
        "    def total_investment_value(self):\n",
        "        # Calcula el valor total de la inversión de la cartera\n",
        "        return sum(stock.investment_value() for stock in self.stocks.values())\n",
        "\n",
        "    def rebalance(self):\n",
        "        # Rebalancea la cartera, comprando y vendiendo acciones para alcanzar la distribución asignada\n",
        "        total_value = self.total_investment_value()\n",
        "        print(f\"\\nTotal Portfolio Value: {total_value:.2f}\\n\")\n",
        "\n",
        "        for ticker, stock in self.stocks.items():\n",
        "            current_value = stock.investment_value()\n",
        "            target_value = self.allocation[ticker] * total_value\n",
        "            shares_to_trade = (target_value - current_value) / stock.price\n",
        "\n",
        "            action = \"buy\" if shares_to_trade > 0 else \"sell\"\n",
        "            print(f\"{ticker}: Current = ${current_value:.2f}, Target = ${target_value:.2f}\")\n",
        "            print(f\" -> {action} {abs(shares_to_trade):.2f} shares\\n\")\n",
        "\n",
        "\n"
      ],
      "metadata": {
        "id": "78PugAk6kmAS"
      },
      "execution_count": 4,
      "outputs": []
    },
    {
      "cell_type": "markdown",
      "source": [
        "# Ejemplo Meta / Apple"
      ],
      "metadata": {
        "id": "JL9GBKvVkpV0"
      }
    },
    {
      "cell_type": "code",
      "source": [
        "# --- Simulación ---\n",
        "# Genera valores aleatorios para las condiciones iniciales META y AAPL\n",
        "meta_stock = Stock('META', price=random.uniform(250, 350), quantity=random.randint(5, 20))\n",
        "aapl_stock = Stock('AAPL', price=random.uniform(100, 200), quantity=random.randint(5, 20))\n",
        "aim = {'META': 0.4, 'AAPL': 0.6}                            # Define la distribución objetivo\n",
        "\n",
        "# Ejecuta la simulación\n",
        "portfolio = Portfolio([meta_stock, aapl_stock], aim)        # Crea el portafolio\n",
        "portfolio.update()                                          # Actualiza precios\n",
        "portfolio.rebalance()                                       # Realiza el rebalanceo"
      ],
      "metadata": {
        "colab": {
          "base_uri": "https://localhost:8080/"
        },
        "id": "wpRVJjpZk1Oj",
        "outputId": "9ba71171-7016-4294-abfb-b481ada72985"
      },
      "execution_count": 5,
      "outputs": [
        {
          "output_type": "stream",
          "name": "stdout",
          "text": [
            "\n",
            "Total Portfolio Value: 3552.36\n",
            "\n",
            "META: Current = $1767.94, Target = $1420.94\n",
            " -> sell 1.37 shares\n",
            "\n",
            "AAPL: Current = $1784.42, Target = $2131.42\n",
            " -> buy 2.33 shares\n",
            "\n"
          ]
        }
      ]
    },
    {
      "cell_type": "markdown",
      "source": [
        "# Ejemplo más complejo"
      ],
      "metadata": {
        "id": "wo0-RyxCkpsF"
      }
    },
    {
      "cell_type": "code",
      "source": [
        "# --- Simulación con 4 acciones ---\n",
        "\n",
        "# Crear acciones con valores iniciales aleatorios\n",
        "stock1 = Stock('AAPL', price=random.uniform(100, 200), quantity=random.randint(5, 20))\n",
        "stock2 = Stock('META', price=random.uniform(250, 350), quantity=random.randint(5, 20))\n",
        "stock3 = Stock('GOOGL', price=random.uniform(1000, 1500), quantity=random.randint(1, 5))\n",
        "stock4 = Stock('AMZN', price=random.uniform(3000, 3500), quantity=random.randint(1, 5))\n",
        "\n",
        "# Definir la distribución objetivo (por ejemplo)\n",
        "aim_distribution = {\n",
        "    'AAPL': 0.25,\n",
        "    'META': 0.25,\n",
        "    'GOOGL': 0.30,\n",
        "    'AMZN': 0.20\n",
        "}\n",
        "\n",
        "# Crear portafolio\n",
        "portfolio = Portfolio([stock1, stock2, stock3, stock4], aim_distribution)\n",
        "\n",
        "# Actualizar precios de las acciones\n",
        "portfolio.update()\n",
        "\n",
        "# Ejecutar rebalanceo\n",
        "portfolio.rebalance()"
      ],
      "metadata": {
        "colab": {
          "base_uri": "https://localhost:8080/"
        },
        "id": "m46WeeltlBIy",
        "outputId": "04af000a-b340-4f28-93c6-290637c43d6b"
      },
      "execution_count": 6,
      "outputs": [
        {
          "output_type": "stream",
          "name": "stdout",
          "text": [
            "\n",
            "Total Portfolio Value: 28669.42\n",
            "\n",
            "AAPL: Current = $2702.16, Target = $7167.35\n",
            " -> buy 21.48 shares\n",
            "\n",
            "META: Current = $3702.85, Target = $7167.35\n",
            " -> buy 10.29 shares\n",
            "\n",
            "GOOGL: Current = $5278.67, Target = $8600.83\n",
            " -> buy 2.52 shares\n",
            "\n",
            "AMZN: Current = $16985.74, Target = $5733.88\n",
            " -> sell 3.31 shares\n",
            "\n"
          ]
        }
      ]
    },
    {
      "cell_type": "code",
      "source": [],
      "metadata": {
        "id": "_ED3Qyo3lU51"
      },
      "execution_count": null,
      "outputs": []
    }
  ]
}